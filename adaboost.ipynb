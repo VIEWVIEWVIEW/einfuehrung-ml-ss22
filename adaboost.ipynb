{
 "cells": [
  {
   "cell_type": "code",
   "execution_count": 41,
   "metadata": {
    "collapsed": true,
    "pycharm": {
     "name": "#%%\n"
    }
   },
   "outputs": [],
   "source": [
    "COLLABORATORS = \"Alexander Walla, Lennard Langenbruch, Marc-Alexander Richts\""
   ]
  },
  {
   "cell_type": "markdown",
   "source": [
    "# Intro\n",
    "\n",
    "*Boosting* bezeichnet in Machine Learning einen \"[ensemble](https://de.wikipedia.org/wiki/Ensemble_learning) [Metaalgorithmus](https://de.wikipedia.org/wiki/Metaheuristik)\". Ensemble Learning verwendet mehrere Lernalgorithmen, um prädikative [Inferenz](https://de.wikipedia.org/wiki/Statistische_Inferenz) (Vorhersagen) im Vergleich zu einzelnen Lernalgorithmen zu verbessern. Boosting ist eine Art von Implementation von Ensemble Learning um mehrere schwache Klassifikatoren zu einem leistungsfähigen Klassifikator zusammenzufügen. Beim Boosting werden die Prädikatoren in \"Reihe geschaltet\" und nacheinander trainiert, sodass jeder Prädikator versucht die Fehler des vorherigen Prädikators zu beheben.\n",
    "\n",
    "Die einzelnen schwachen Klassifikatoren müssen nur leicht besser als zufälliges raten sein."
   ],
   "metadata": {
    "collapsed": false,
    "pycharm": {
     "name": "#%% md\n"
    }
   }
  },
  {
   "cell_type": "markdown",
   "source": [
    "# AdaBoost\n",
    "\n",
    "AdaBoost (kurz für \"Adaptive Boost\") ist eine Boostingmethode, die den vorherigen Prädikator korrigiert, indem der nachfolgende Prädikator seinen Bias (Gewichte) zu den im Vorgängerprädikator nicht beachteten Trainingsdatenpunkten schiebt. Damit fokussieren sich die in der Kette später kommenden Prädikatoren mehr und mehr auf die schwierigeren Fälle. [1]\n",
    "\n",
    "Je nach Genauigkeit der einzelnen Prädikatoren werden diese gewichtet. Je genauer ein Prädikator ist, desto höher ist sein Gewicht. Bei einer Genauigkeit, die zufälligem raten entspricht, bekommt der Prädikator ein Gewicht von ``0``. Wenn der Prädikator eine niedrigere Genauigkeit als 50% Trefferquote hat, bekommt er ein negatives Gewicht. [2]\n",
    "\n",
    "**Es gibt also zwei Arten von Gewichten**:\n",
    "- Die Trainingsdaten bekommen Gewichte $ 1 / m $. Zuerst sind diese Datenpunkte alle neutral $ m = 1 => 1 / 1 = 1 $ gewichtet, das bedeutet, der erste Prädikator wird auf die originalen Daten trainiert. Danach wird die gewichtete Fehlerquote auf die Trainingsdaten berechnet.\n",
    "- Alle Prädikatoren bekommen je nach Genauigkeit ein hohes oder niedriges Gewicht. Dieses Gewicht wird am Ende im Ensemble verwendet, um eine Mehrheit auszurechnen. Das Gewicht eines Prädikators $ a_{j} $ berechnet sich wie folgt:\n",
    "\n",
    "$$ a_{j} = n log \\frac{1 - r_{j}}{r_{j}} $$\n",
    "$$(Géron, 2020, p. 251)$$\n",
    "\n",
    "- Der Hyperparameter $ n $ stellt hier die Lernrate dar, der standardmäßig auf 1 gesetzt ist.\n",
    "- $ r_{j} $ beschreibt die Fehlerrate\n",
    "\n",
    "\n",
    "Danach werden die falsch klassifizierten Datenpunkte *geboosted*; diese Datenpunkte bekommen ein höheres Gewicht. Wie oben bereits beschrieben, verschiebt sich dadurch der Bias auf die Datenpunkte auf die schwierigeren Cases.\n",
    "\n",
    "\n",
    "## Vergleich von AdaBoost Prädikatoren zu Random Forests\n",
    "Der Vergleich von AdaBoost zu Random Forests eignet sich sehr gut, da viele Merkmale dieser Algorithmen invers sind.\n",
    "- Bei Random Forests hat jeder Tree (Prädikator) ein gleichwertiges Gewicht; bei AdaBoost bekommen die Prädikatoren ein verschieden schweres Gewicht wodurch einige Prädikatoren \"mehr zu sagen\" haben als andere.\n",
    "- Bei Random Forests können die Trees parallel auf einzelne Merkmale trainiert werden. Bei AdaBoost werden die Learner jedoch sequenziell trainiert, wodurch sich das training nur sehr schwierig skalieren lässt. Denn je nachdem wie genau der erste Learner ist, werden die Datenpunkte für den zweiten Learner geboosted. Diese Abhängigkeit führt zu einer langen Kaskade.\n",
    "\n",
    "## Applikation in der realen Welt\n",
    "Eine der interessantesten Anwendungen von AdaBoost ist schnelle und effiziente Objektklassifizierung auf (aus der heutigen Sicht) Computern mit niedriger Rechenleistung. 2001 haben Viola und Jones auf einem 700MHz Pentium III auf einem 384 x 288 Pixel-Foto mit 15 Frames pro Sekunde klassifizieren können, ob das Bild ein Gesicht enthält oder nicht.\n",
    "Bei Viola und Jones wird jeder schwache Lerner von AdaBoost auf ein einzelnes Merkmal trainiert. Dann wird der jeweilige Lerner mit der geringsten Fehlerrate genommen. Dadurch entsteht bereits im Trainingsschritt eine Art Selektion. Da Viola und Jones am Anfang der Klassifizierungskaskade weniger komplexe Learner verwenden, kann ein Gesicht im Klassifizierungsprozess bereits relativ früh abgelehnt werden, wodurch die späteren komplexeren Learner teilweise gar nicht erst aufgerufen werden - wodurch die Performance des Algorithmus im echten Leben gesteigert wird.\n",
    "\n",
    "*Anmerkung: Der Teil vom Paper von Viola und Jones [5], der sich auf AdaBoost bezieht, ist sehr simpel und verständlich geschrieben. Für alle, die sich mehr mit diesem Thema beschäftigen wollen, und sogar Machine Learning auf embedded Systemen anwenden möchten, ist ein Blick auf das Paper ab Kapitel 3 \"Learning Classification Functions\" sehr viel wert.*"
    "Danach werden die falsch klassifizierten Datenpunkte *geboosted*; sprich, diese Datenpunkte bekommen ein höheres Gewicht. Wie oben bereits beschrieben, verschiebt sich dadurch der Bias auf die Datenpunkte auf die schwierigeren Cases.\n"
   ],
   "metadata": {
    "collapsed": false,
    "pycharm": {
     "name": "#%% md\n"
    }
   }
  },
  {
   "cell_type": "markdown",
   "source": [
    "# AdaBoost in SciKit-Learn\n",
    "\n",
    "SciKit-Learn implementiert eine angepasste Version von AdaBoost namens *Discrete SAMME*. SAMME steht für **S**tagewise **A**dditive **M**odeling using a **M**ulticlass **E**xponential loss function.\n",
    "Diese angepasste Version nach dem Paper \"Multi-class AdaBoost\" [3] kann im Gegensatz zum originalen AdaBoost nicht nur binäre Entscheidungen treffen, sondern in mehr als nur zwei Kategorien unterscheiden.\n",
    "\n",
    "Wenn man Prädikatoren verwendet, welche nicht nur binäre Entscheidungen, sondern Wahrscheinlichkeiten zurückgeben, kann man außerdem eine abgewandelte Form von SAMME namens *SAMME.R* verwenden, wobei das R für **R**eal steht.\n",
    "\n",
    "Der Unterschied zwischen SAMME und SAMME.R ist dass SAMME sich auf der Grundlage von Fehlern in den vorhergesagten Class Labels sich anpasst, während SAMME.R die vorhergesagten Klassenwahrscheinlichkeiten verwendet. SAMME.R erzielt im Allgemeinen oft bessere Ergebnisse als SAMME.\n",
    "\n",
    "\n"
   ],
   "metadata": {
    "collapsed": false,
    "pycharm": {
     "name": "#%% md\n"
    }
   }
  },
  {
   "cell_type": "markdown",
   "source": [
    "# Praktische Anwendung anhand eines Beispiels\n",
    "\n",
    "Das folgende Beispiel bezieht sich auf die Erkennung von Kreditkartenbetrug (Fraud). Die Daten stammen von Kaggle [6]."
   ],
   "metadata": {
    "collapsed": false,
    "pycharm": {
     "name": "#%% md\n"
    }
   }
  },
  {
   "cell_type": "code",
   "execution_count": 42,
   "outputs": [
    {
     "data": {
      "text/plain": "    distance_from_home  distance_from_last_transaction  \\\n0            57.877857                        0.311140   \n1            10.829943                        0.175592   \n2             5.091079                        0.805153   \n3             2.247564                        5.600044   \n4            44.190936                        0.566486   \n5             5.586408                       13.261073   \n6             3.724019                        0.956838   \n7             4.848247                        0.320735   \n8             0.876632                        2.503609   \n9             8.839047                        2.970512   \n10           14.263530                        0.158758   \n11           13.592368                        0.240540   \n12          765.282559                        0.371562   \n13            2.131956                       56.372401   \n14           13.955972                        0.271522   \n15          179.665148                        0.120920   \n16          114.519789                        0.707003   \n17            3.589649                        6.247458   \n18           11.085152                       34.661351   \n19            6.194671                        1.142014   \n\n    ratio_to_median_purchase_price  repeat_retailer  used_chip  \\\n0                         1.945940              1.0        1.0   \n1                         1.294219              1.0        0.0   \n2                         0.427715              1.0        0.0   \n3                         0.362663              1.0        1.0   \n4                         2.222767              1.0        1.0   \n5                         0.064768              1.0        0.0   \n6                         0.278465              1.0        0.0   \n7                         1.273050              1.0        0.0   \n8                         1.516999              0.0        0.0   \n9                         2.361683              1.0        0.0   \n10                        1.136102              1.0        1.0   \n11                        1.370330              1.0        1.0   \n12                        0.551245              1.0        1.0   \n13                        6.358667              1.0        0.0   \n14                        2.798901              1.0        0.0   \n15                        0.535640              1.0        1.0   \n16                        0.516990              1.0        0.0   \n17                        1.846451              1.0        0.0   \n18                        2.530758              1.0        0.0   \n19                        0.307217              1.0        0.0   \n\n    used_pin_number  online_order  fraud  \n0               0.0           0.0    0.0  \n1               0.0           0.0    0.0  \n2               0.0           1.0    0.0  \n3               0.0           1.0    0.0  \n4               0.0           1.0    0.0  \n5               0.0           0.0    0.0  \n6               0.0           1.0    0.0  \n7               1.0           0.0    0.0  \n8               0.0           0.0    0.0  \n9               0.0           1.0    0.0  \n10              0.0           1.0    0.0  \n11              0.0           1.0    0.0  \n12              0.0           0.0    0.0  \n13              0.0           1.0    1.0  \n14              0.0           1.0    0.0  \n15              1.0           1.0    0.0  \n16              0.0           0.0    0.0  \n17              0.0           0.0    0.0  \n18              0.0           1.0    0.0  \n19              0.0           0.0    0.0  ",
      "text/html": "<div>\n<style scoped>\n    .dataframe tbody tr th:only-of-type {\n        vertical-align: middle;\n    }\n\n    .dataframe tbody tr th {\n        vertical-align: top;\n    }\n\n    .dataframe thead th {\n        text-align: right;\n    }\n</style>\n<table border=\"1\" class=\"dataframe\">\n  <thead>\n    <tr style=\"text-align: right;\">\n      <th></th>\n      <th>distance_from_home</th>\n      <th>distance_from_last_transaction</th>\n      <th>ratio_to_median_purchase_price</th>\n      <th>repeat_retailer</th>\n      <th>used_chip</th>\n      <th>used_pin_number</th>\n      <th>online_order</th>\n      <th>fraud</th>\n    </tr>\n  </thead>\n  <tbody>\n    <tr>\n      <th>0</th>\n      <td>57.877857</td>\n      <td>0.311140</td>\n      <td>1.945940</td>\n      <td>1.0</td>\n      <td>1.0</td>\n      <td>0.0</td>\n      <td>0.0</td>\n      <td>0.0</td>\n    </tr>\n    <tr>\n      <th>1</th>\n      <td>10.829943</td>\n      <td>0.175592</td>\n      <td>1.294219</td>\n      <td>1.0</td>\n      <td>0.0</td>\n      <td>0.0</td>\n      <td>0.0</td>\n      <td>0.0</td>\n    </tr>\n    <tr>\n      <th>2</th>\n      <td>5.091079</td>\n      <td>0.805153</td>\n      <td>0.427715</td>\n      <td>1.0</td>\n      <td>0.0</td>\n      <td>0.0</td>\n      <td>1.0</td>\n      <td>0.0</td>\n    </tr>\n    <tr>\n      <th>3</th>\n      <td>2.247564</td>\n      <td>5.600044</td>\n      <td>0.362663</td>\n      <td>1.0</td>\n      <td>1.0</td>\n      <td>0.0</td>\n      <td>1.0</td>\n      <td>0.0</td>\n    </tr>\n    <tr>\n      <th>4</th>\n      <td>44.190936</td>\n      <td>0.566486</td>\n      <td>2.222767</td>\n      <td>1.0</td>\n      <td>1.0</td>\n      <td>0.0</td>\n      <td>1.0</td>\n      <td>0.0</td>\n    </tr>\n    <tr>\n      <th>5</th>\n      <td>5.586408</td>\n      <td>13.261073</td>\n      <td>0.064768</td>\n      <td>1.0</td>\n      <td>0.0</td>\n      <td>0.0</td>\n      <td>0.0</td>\n      <td>0.0</td>\n    </tr>\n    <tr>\n      <th>6</th>\n      <td>3.724019</td>\n      <td>0.956838</td>\n      <td>0.278465</td>\n      <td>1.0</td>\n      <td>0.0</td>\n      <td>0.0</td>\n      <td>1.0</td>\n      <td>0.0</td>\n    </tr>\n    <tr>\n      <th>7</th>\n      <td>4.848247</td>\n      <td>0.320735</td>\n      <td>1.273050</td>\n      <td>1.0</td>\n      <td>0.0</td>\n      <td>1.0</td>\n      <td>0.0</td>\n      <td>0.0</td>\n    </tr>\n    <tr>\n      <th>8</th>\n      <td>0.876632</td>\n      <td>2.503609</td>\n      <td>1.516999</td>\n      <td>0.0</td>\n      <td>0.0</td>\n      <td>0.0</td>\n      <td>0.0</td>\n      <td>0.0</td>\n    </tr>\n    <tr>\n      <th>9</th>\n      <td>8.839047</td>\n      <td>2.970512</td>\n      <td>2.361683</td>\n      <td>1.0</td>\n      <td>0.0</td>\n      <td>0.0</td>\n      <td>1.0</td>\n      <td>0.0</td>\n    </tr>\n    <tr>\n      <th>10</th>\n      <td>14.263530</td>\n      <td>0.158758</td>\n      <td>1.136102</td>\n      <td>1.0</td>\n      <td>1.0</td>\n      <td>0.0</td>\n      <td>1.0</td>\n      <td>0.0</td>\n    </tr>\n    <tr>\n      <th>11</th>\n      <td>13.592368</td>\n      <td>0.240540</td>\n      <td>1.370330</td>\n      <td>1.0</td>\n      <td>1.0</td>\n      <td>0.0</td>\n      <td>1.0</td>\n      <td>0.0</td>\n    </tr>\n    <tr>\n      <th>12</th>\n      <td>765.282559</td>\n      <td>0.371562</td>\n      <td>0.551245</td>\n      <td>1.0</td>\n      <td>1.0</td>\n      <td>0.0</td>\n      <td>0.0</td>\n      <td>0.0</td>\n    </tr>\n    <tr>\n      <th>13</th>\n      <td>2.131956</td>\n      <td>56.372401</td>\n      <td>6.358667</td>\n      <td>1.0</td>\n      <td>0.0</td>\n      <td>0.0</td>\n      <td>1.0</td>\n      <td>1.0</td>\n    </tr>\n    <tr>\n      <th>14</th>\n      <td>13.955972</td>\n      <td>0.271522</td>\n      <td>2.798901</td>\n      <td>1.0</td>\n      <td>0.0</td>\n      <td>0.0</td>\n      <td>1.0</td>\n      <td>0.0</td>\n    </tr>\n    <tr>\n      <th>15</th>\n      <td>179.665148</td>\n      <td>0.120920</td>\n      <td>0.535640</td>\n      <td>1.0</td>\n      <td>1.0</td>\n      <td>1.0</td>\n      <td>1.0</td>\n      <td>0.0</td>\n    </tr>\n    <tr>\n      <th>16</th>\n      <td>114.519789</td>\n      <td>0.707003</td>\n      <td>0.516990</td>\n      <td>1.0</td>\n      <td>0.0</td>\n      <td>0.0</td>\n      <td>0.0</td>\n      <td>0.0</td>\n    </tr>\n    <tr>\n      <th>17</th>\n      <td>3.589649</td>\n      <td>6.247458</td>\n      <td>1.846451</td>\n      <td>1.0</td>\n      <td>0.0</td>\n      <td>0.0</td>\n      <td>0.0</td>\n      <td>0.0</td>\n    </tr>\n    <tr>\n      <th>18</th>\n      <td>11.085152</td>\n      <td>34.661351</td>\n      <td>2.530758</td>\n      <td>1.0</td>\n      <td>0.0</td>\n      <td>0.0</td>\n      <td>1.0</td>\n      <td>0.0</td>\n    </tr>\n    <tr>\n      <th>19</th>\n      <td>6.194671</td>\n      <td>1.142014</td>\n      <td>0.307217</td>\n      <td>1.0</td>\n      <td>0.0</td>\n      <td>0.0</td>\n      <td>0.0</td>\n      <td>0.0</td>\n    </tr>\n  </tbody>\n</table>\n</div>"
     },
     "execution_count": 42,
     "metadata": {},
     "output_type": "execute_result"
    }
   ],
   "source": [
    "import pandas as pd\n",
    "\n",
    "dataset = pd.read_csv('card_transdata.csv')\n",
    "dataset.head(20)"
   ],
   "metadata": {
    "collapsed": false,
    "pycharm": {
     "name": "#%%\n"
    }
   }
  },
  {
   "cell_type": "code",
   "execution_count": 43,
   "outputs": [
    {
     "data": {
      "text/plain": "       distance_from_home  distance_from_last_transaction  \\\ncount      1000000.000000                  1000000.000000   \nmean            26.628792                        5.036519   \nstd             65.390784                       25.843093   \nmin              0.004874                        0.000118   \n25%              3.878008                        0.296671   \n50%              9.967760                        0.998650   \n75%             25.743985                        3.355748   \nmax          10632.723672                    11851.104565   \n\n       ratio_to_median_purchase_price  repeat_retailer       used_chip  \\\ncount                  1000000.000000   1000000.000000  1000000.000000   \nmean                         1.824182         0.881536        0.350399   \nstd                          2.799589         0.323157        0.477095   \nmin                          0.004399         0.000000        0.000000   \n25%                          0.475673         1.000000        0.000000   \n50%                          0.997717         1.000000        0.000000   \n75%                          2.096370         1.000000        1.000000   \nmax                        267.802942         1.000000        1.000000   \n\n       used_pin_number    online_order           fraud  \ncount   1000000.000000  1000000.000000  1000000.000000  \nmean          0.100608        0.650552        0.087403  \nstd           0.300809        0.476796        0.282425  \nmin           0.000000        0.000000        0.000000  \n25%           0.000000        0.000000        0.000000  \n50%           0.000000        1.000000        0.000000  \n75%           0.000000        1.000000        0.000000  \nmax           1.000000        1.000000        1.000000  ",
      "text/html": "<div>\n<style scoped>\n    .dataframe tbody tr th:only-of-type {\n        vertical-align: middle;\n    }\n\n    .dataframe tbody tr th {\n        vertical-align: top;\n    }\n\n    .dataframe thead th {\n        text-align: right;\n    }\n</style>\n<table border=\"1\" class=\"dataframe\">\n  <thead>\n    <tr style=\"text-align: right;\">\n      <th></th>\n      <th>distance_from_home</th>\n      <th>distance_from_last_transaction</th>\n      <th>ratio_to_median_purchase_price</th>\n      <th>repeat_retailer</th>\n      <th>used_chip</th>\n      <th>used_pin_number</th>\n      <th>online_order</th>\n      <th>fraud</th>\n    </tr>\n  </thead>\n  <tbody>\n    <tr>\n      <th>count</th>\n      <td>1000000.000000</td>\n      <td>1000000.000000</td>\n      <td>1000000.000000</td>\n      <td>1000000.000000</td>\n      <td>1000000.000000</td>\n      <td>1000000.000000</td>\n      <td>1000000.000000</td>\n      <td>1000000.000000</td>\n    </tr>\n    <tr>\n      <th>mean</th>\n      <td>26.628792</td>\n      <td>5.036519</td>\n      <td>1.824182</td>\n      <td>0.881536</td>\n      <td>0.350399</td>\n      <td>0.100608</td>\n      <td>0.650552</td>\n      <td>0.087403</td>\n    </tr>\n    <tr>\n      <th>std</th>\n      <td>65.390784</td>\n      <td>25.843093</td>\n      <td>2.799589</td>\n      <td>0.323157</td>\n      <td>0.477095</td>\n      <td>0.300809</td>\n      <td>0.476796</td>\n      <td>0.282425</td>\n    </tr>\n    <tr>\n      <th>min</th>\n      <td>0.004874</td>\n      <td>0.000118</td>\n      <td>0.004399</td>\n      <td>0.000000</td>\n      <td>0.000000</td>\n      <td>0.000000</td>\n      <td>0.000000</td>\n      <td>0.000000</td>\n    </tr>\n    <tr>\n      <th>25%</th>\n      <td>3.878008</td>\n      <td>0.296671</td>\n      <td>0.475673</td>\n      <td>1.000000</td>\n      <td>0.000000</td>\n      <td>0.000000</td>\n      <td>0.000000</td>\n      <td>0.000000</td>\n    </tr>\n    <tr>\n      <th>50%</th>\n      <td>9.967760</td>\n      <td>0.998650</td>\n      <td>0.997717</td>\n      <td>1.000000</td>\n      <td>0.000000</td>\n      <td>0.000000</td>\n      <td>1.000000</td>\n      <td>0.000000</td>\n    </tr>\n    <tr>\n      <th>75%</th>\n      <td>25.743985</td>\n      <td>3.355748</td>\n      <td>2.096370</td>\n      <td>1.000000</td>\n      <td>1.000000</td>\n      <td>0.000000</td>\n      <td>1.000000</td>\n      <td>0.000000</td>\n    </tr>\n    <tr>\n      <th>max</th>\n      <td>10632.723672</td>\n      <td>11851.104565</td>\n      <td>267.802942</td>\n      <td>1.000000</td>\n      <td>1.000000</td>\n      <td>1.000000</td>\n      <td>1.000000</td>\n      <td>1.000000</td>\n    </tr>\n  </tbody>\n</table>\n</div>"
     },
     "execution_count": 43,
     "metadata": {},
     "output_type": "execute_result"
    }
   ],
   "source": [
    "dataset.describe()"
   ],
   "metadata": {
    "collapsed": false,
    "pycharm": {
     "name": "#%%\n"
    }
   }
  },
  {
   "cell_type": "code",
   "execution_count": 44,
   "outputs": [
    {
     "name": "stdout",
     "output_type": "stream",
     "text": [
      "912597 87403\n",
      "8.74% of 1000000 transactions were fraudulent.\n"
     ]
    }
   ],
   "source": [
    "# Übersicht verschaffen mit was für Daten wir überhaupt arbeiten.\n",
    "# Wie viele Transaktionen in unserem Dataset sind Fraud?\n",
    "non_fraud, fraud = dataset['fraud'].value_counts()\n",
    "print(non_fraud, fraud)\n",
    "fraud_ratio =  ( fraud / (non_fraud + fraud) ) * 100\n",
    "print(f'{fraud_ratio:.2f}% of {non_fraud + fraud} transactions were fraudulent.')"
   ],
   "metadata": {
    "collapsed": false,
    "pycharm": {
     "name": "#%%\n"
    }
   }
  },
  {
   "cell_type": "code",
   "execution_count": 45,
   "outputs": [
    {
     "data": {
      "text/plain": "<Figure size 432x288 with 1 Axes>",
      "image/png": "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\n"
     },
     "metadata": {
      "needs_background": "light"
     },
     "output_type": "display_data"
    },
    {
     "data": {
      "text/plain": "<Figure size 432x288 with 1 Axes>",
      "image/png": "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\n"
     },
     "metadata": {
      "needs_background": "light"
     },
     "output_type": "display_data"
    },
    {
     "data": {
      "text/plain": "<Figure size 432x288 with 1 Axes>",
      "image/png": "iVBORw0KGgoAAAANSUhEUgAAAZIAAAEECAYAAAACvbKkAAAAOXRFWHRTb2Z0d2FyZQBNYXRwbG90bGliIHZlcnNpb24zLjUuMiwgaHR0cHM6Ly9tYXRwbG90bGliLm9yZy8qNh9FAAAACXBIWXMAAAsTAAALEwEAmpwYAAAap0lEQVR4nO3de5QU9Zn/8Xd3D8PNgUHorGjkom6e9ReJUUgwikASFZWNmGz2HLNnF6OJlwQTNaw3VuNq1mwiiq73C7LEmF13V9ffZpOgnJP9aRBRzCweQfFJwARMTMyADDMMt5me+v1RBRnHufTw7epmZj6vf+j+1lPVT/UZ+2NVdX07E0URIiIiBypb6QZERKRvU5CIiEgQBYmIiARRkIiISBAFiYiIBKmqdAPl1tbWFhUK+qaaiEhvDBqU2wLkO1s24IKkUIhoaNhZ6TZERPqUfL5mU1fLdGpLRESCKEhERCSIgkRERIIMuGskIiJpKRRa2batntbWvZVu5YBVVVUzalSeXK74eFCQiIiUyLZt9QwZMozhww8jk8lUup1ei6KI5uZGtm2rZ8yYsUWvp1NbIiIl0tq6l+HDR/TJEAHIZDIMHz6i10dUChIRkRLqqyGyz4H0ryAREZEgChIRkQprbW3la1+7hEsvvZDGxsbg7d1//9385Cf/XYLOipPKxXYzGwR8D5gAFICLgFZgKRAB64B57t5mZjcCs5PlV7j7ajM7JrQ2jf3a55ARQxg6eFCaL9Fn7NrTwo7G3ZVuQ6RP27JlC83NzSxZ8lilWzkgaX1r62ygyt1PNrPTgVuAQcD17v6smT0AzDGzTcAMYCpwJPAk8DFgUUgt8FRK+wXA0MGDmHzVo2m+RJ9Rt3AuO1CQiIS47bZv85vfvMWtt97C7373Nrt27eLaa2/g6ad/zBtvvE5j43aOOeZDLFhwI4888iCjR4/m3HM/z6ZNv2bhwm9zzz0P8eyzP+V733uE2tpRtLS0MH78hLL1n9aprV8AVWaWBUYALcBk4Llk+TLgNGAasNzdI3ffnKyTL0GtiEifMX/+tUyYMJHRo8cwfvxEHnhgCfl8npqaGu688z4WL/4+r722lvr6P3S6fmtrK3fffQd33nkfixbdw5AhQ8raf1pHJDuIT2u9AYwB/hyY7u77pt1tAkYSh8zWduvtG88E1nYpl8tQWzvswPZKOqX3UyT2zjsZcrne//95Lpclk4FsNsOECRPI5bIMGzaUhoYGbrrp7xg6dBi7du0iitrIZjNkMllyuSzZbPwtq8bG7YwYMZJDDz0UgI985KNkswfWC8Tb7M1/12kFyZXAM+5+nZkdCfwPUN1ueQ3QADQmjzuOtwXWdqkUs//m8zU9Fw0gmk1ZJBZFEYVC7y/RFgptRBG0tUX7n69c+TzvvPN7br75H9m2bRvPPfc/tLYWqKqqZsuWegqFNtavX08URYwYMZIdO5rYsmUro0aN4vXX1zFmzCcPqJd9+9Hxv+vuPvfSOrW1DdiePH6X+PrIGjObmYydBawAVgKzzCxrZuOArLtvKUGtiEifduyxH+btt3/LvHkXccMN13D44UewZUs9n/706axatZLLLrsY9zcAqKqq4sorr2b+/Mu4/PKv0tLSWtZe0zoiuQNYYmYriI9EFgA/Bx42s2pgPfCEuxeSmlXEoTYvWX9+SG1K+yQikoqxYw/noYeWvmds9OgxLF7c+Zd6Ohs/+eRpnHzytDTa61EmigbWrwW2tBSiUpza0re2YnUL51Jf31TpNkQOCr///SYOO2x8pdsI1tl+5PM1dcCUzup1Q6KIiARRkIiISBAFiYiIBFGQiIhIEP2wlYhISko9L9/BOredgkREJCWlnpevmLnt2trauP3277Bhwy8ZNGgQ1157Ax/84JH7l//wh0/xX//1n+RyOc4//0uccsqpwX0pSERE+pEVK55l7969PPjgP7Nu3VruuecOvvOdRQBs3bqFJ554nMWLv8/evXv56le/xMc+NpXq6uput9kTXSMREelHXn31FaZO/QQAxx03iTfeWL9/2fr1rzFp0vFUV1dzyCGHcMQRR7Jx4y+DX1NBIiLSjzQ3NzN8+CH7n2ezWVpbWztdNmzYMHbs2BH8mgoSEZF+ZPjw4ezc+cfZO6IooqqqqtNlO3fupKYmfBJaBYmISD8yadLxvPjiSgDWrVvLUUcds3/Zscd+mFdfXcOePXvYsWMHmzb9iokTjw5+TV1sFxFJya49LdQtnFvS7fVk+vRP8vLLL3HppRcSRRELFtzI448/xgc/eCTTps3g858/j3nzLqKtrY2LL/4qgwcPDu5LQSIikpIdjbvL/lPU2WyWq65a8J6x9j+7e845n+Wccz5b2tcs6dZERGTAUZCIiEgQBYmIiARRkIiISBAFiYiIBEnlW1tm9kXgi8nTIcBHgZnAPwGtwHJ3v8nMssB9wPHAHuDL7r7BzE4KqU1jn0REeuvQkYPIVQ8p2fYKe3fz7vaevwJcbqkEibsvBZYCmNm9wBLgAeAvgDeBH5vZCcBEYIi7fyIJhNuBOaG17r4mjf0SEemNXPUQNt88qWTbG/fNtUDPQfLaa+u4//67uOeeh94z/vzzP2Pp0sXkcjlmzz6nZF8DTvU+EjObAnwYuA640t03JuPPAKcBY4GnAdz9RTObYmYjgMGBtV0GSS6XobZ2WCr7O1Dp/RSJvfNOhlwu3SsGPW3/sceWsmzZTxg6dMh7altbW7j77kUsWfIYQ4cO5ZJLLmDGjJkceujo920jk+nd52TaNyQuAG4CRgCN7cabgKOS8e3txgslqu1SoRDR0LCzu5Ie5fPhc9P0J6Hvp0h/EUURhUJbqq/R0/bHjj2CW265lW9965vvqd248U2OOOLI/ZM2Tpp0PHV1dXzqU6e9bxtR9P7Pye4+91KLTjOrBczd/x/xh337LmqAhk7GsyWqFREZkGbO/PT+SRrba25u5pBD2s/8O5zm5vCZfyHdb21NB34K4O6NwF4zO9rMMsAsYAWwEjgbILnusbZEtSIi0k4882/z/uc7d743WEKkGSRGfAF8n0uBHwCrgTXu/hLwFLDbzF4A7gCuLFGtiIi0M2HCRH7zm7dobNxOS0sLr7yyhuOO+0hJtp3aNRJ3X9jh+YvASR3G2oiDoOO6QbUiIgeDwt7dyTetSre93lq+/Gl27drJnDmf47LLruQb3/gabW1tzJ59Dvn8B0rSl2b/FRFJSXzPR/nv+xg79nAeemgpAGecceb+8WnTpjNt2vSSv57ubBcRkSAKEhERCaIgEREpoSiKKt1CkAPpX0EiIlIiVVXVNDc39tkwiaKI5uZGqqqqe7WeLraLiJTIqFF5tm2rZ8eOhkq3csCqqqoZNSrfu3VS6kVEZMDJ5aoYM2ZspdsoO53aEhGRIAoSEREJoiAREZEgChIREQmiIBERkSAKEhERCaIgERGRIAoSEREJoiAREZEgChIREQmS2hQpZnYdcA5QDdwHPAcsBSJgHTDP3dvM7EZgNtAKXOHuq83smNDatPZLRETeK5UjEjObCZwMnALMAI4EFgHXu/upQAaYY2YnJsunAucB9yabCKpNY59ERKRzaZ3amgWsBZ4C/hv4ETCZ+KgEYBlwGjANWO7ukbtvBqrMLF+CWhERKZO0Tm2NAcYDfw5MBH4IZN193yT9TcBIYASwtd16+8YzgbVdyuUy1NYOO8Ddks7o/RQZ2NIKkq3AG+6+F3Az2018emufGqABaEwedxxvC6ztUqEQ0dCws9j96FQ+X9Nz0QAS+n6KyMGvu8+9tE5tPQ+caWYZMzscGA78NLl2AnAWsAJYCcwys6yZjSM+atkCrAmsFRGRMknliMTdf2Rm04HVxGE1D/gV8LCZVQPrgSfcvWBmK4BV7eoA5ofUprFPIiLSuUxf/W3hA9XSUohKcWpr8lWPlqijvq1u4Vzq65sq3YaIpCyfr6kDpnS2TDckiohIEAWJiIgEUZCIiEgQBYmIiARRkIiISBAFiYiIBFGQiIhIEAWJiIgEUZCIiEgQBYmIiARRkIiISBAFiYiIBFGQiIhIEAWJiIgEUZCIiEgQBYmIiARRkIiISBAFiYiIBEnlN9sBzOx/gcbk6a+AB4F/AlqB5e5+k5llgfuA44E9wJfdfYOZnRRSm9Y+iYjI+6USJGY2BMi4+8x2Y68AfwG8CfzYzE4AJgJD3P0TSSDcDswBHgipdfc1aeyXiIi8X1pHJMcDw8xsefIafw8MdveNAGb2DHAaMBZ4GsDdXzSzKWY2ogS1XQZJLpehtnZYCrs8cOn9FBnY0gqSncBtwGLgT4FlQEO75U3AUcAIYHu78UIy1hhY26VCIaKhYWfxe9KJfL4maP3+JvT9FJGDX3efe2kFyS+ADe4eAb8ws+3Aoe2W1xAHy7Dk8T5Z4mCoCawVEZEySetbWxcSX8PAzA4nDoFmMzvazDLALGAFsBI4O6k7CVjr7o3A3sBaEREpk7SOSB4BlprZ80BEHCxtwA+AHPG3q14ys5eB083sBSADXJCsf2lIbUr7JCIinchEUVTpHsqqpaUQleIayeSrHi1RR31b3cK51Nc3VboNEUlZPl9TB0zpbJluSBQRkSAKEhERCaIgERGRIEUFiZl9ucPzr6fTjoiI9DXdfmvLzL4AnAN80sw+lQzngOOAu1LuTURE+oCevv77NPA7YDTxpIsQf413Y5pNiYhI39FtkLj7NuBZ4Fkz+wAwpJj1RERk4CgqEMzsXmA28DbxzYARcHKKfYmISB9R7JHFVOAod29LsxkREel7iv367wb+eFpLRERkv2KPSMYBm8xsQ/I8cned2hIRkaKD5AupdiEiIn1WsUFyfidjN5eyERER6ZuKDZJ3kn8zwIloahUREUkUFSTu/mD752a2LJ12RESkryn2PpIPtXs6FhifTjsiItLXFHtqq/0RyW5gfgq9iIhIH1Tsqa1Pmtlo4GjgTXff0tM6yZQqdcDpQCuwlPiO+HXAPHdvM7Mbie+YbwWucPfVZnZMaG2xOy8iIuGKnUb+L4EXgAXAi2b21z3UDyI+itmVDC0Crnf3U4kv2M8xsxOBGcR3zZ8H3FuK2mL2R0RESqfYb199A5js7ucCJwCX91B/G/AA8dxcAJOB55LHy4DTgGnAcneP3H0zUGVm+RLUiohIGRV7jaTN3XcAuHuTme3uqtDMvgjUu/szZnZdMpxx9yh53ASMBEYAW9utum88tLZbuVyG2tphPZVJL+j9FBnYig2SN83sduBnwKl0/3skFwKRmZ0GfBR4FPhAu+U1QAPQmDzuON4WWNutQiGioWFnT2Xdyudrei4aQELfTxE5+HX3uVfsqa0HgXeJL5xfANzTVaG7T3f3Ge4+E3gFmAssM7OZSclZwApgJTDLzLJmNg7IJhfx1wTWiohIGRV7RHIHcJ67bzSzRcTflJrei9eZDzxsZtXAeuAJdy+Y2QpgFXGgzStFbS96EhGREshEUdRjkZm90H62XzN7Njni6HNaWgpRKU5tTb7q0RJ11LfVLZxLfX1TpdsQkZTl8zV1wJTOlhV7RLLJzL5NfETwceC3JepNRET6uGKvkVwA/AE4G6gnvqAuIiJS9J3tu4E7021FRET6Ik0HLyIiQRQkIiISREEiIiJBFCQiIhJEQSIiIkEUJCIiEkRBIiIiQRQkIiISREEiIiJBFCQiIhJEQSIiIkEUJCIiEkRBIiIiQRQkIiISREEiIiJBiv2FxF4xsxzwMGBABFwK7Cb+rfcIWAfMc/c2M7sRmA20Ale4+2ozOya0No39EhGR90vriOQzAO5+CnA9cAuwCLje3U8FMsAcMzsRmAFMBc4D7k3WD6pNaZ9ERKQTqRyRuPv/NbMfJU/HAw3AacBzydgy4AzAgeXuHgGbzazKzPLA5MDap7rqLZfLUFs7rDQ7KgB6P0UGuFSCBMDdW83se8Bngc8DpychANAEjARGAFvbrbZvPBNY26VCIaKhYecB7xdAPl8TtH5/E/p+isjBr7vPvVQvtrv7+cCHiK+XDG23qIb4KKUxedxxvC2wVkREyiSVIDGzvzGz65KnO4k/7H9uZjOTsbOAFcBKYJaZZc1sHJB19y3AmsBaEREpk7RObf0n8M9m9jNgEHAFsB542Myqk8dPuHvBzFYAq4hDbV6y/vyQ2pT2SUREOpGJoqjnqn6kpaUQleIayeSrHi1RR31b3cK51Nc3VboNEUlZPl9TB0zpbJluSBQRkSAKEhERCaIgERGRIAoSEREJoiAREZEgChIREQmiIBERkSAKEhERCaIgERGRIAoSEREJoiAREZEgChIREQmiIBERkSAKEhERCaIgERGRIAoSEREJoiAREZEgJf+pXTMbBCwBJgCDgX8AXgeWAhGwDpjn7m1mdiMwG2gFrnD31WZ2TGhtqfdJRES6lsYRyV8DW939VOBM4B5gEXB9MpYB5pjZicAMYCpwHnBvsn5QbQr7IyIi3UgjSP4DuCF5nCE+gpgMPJeMLQNOA6YBy909cvfNQJWZ5UtQKyIiZVTyU1vuvgPAzGqAJ4DrgdvcPUpKmoCRwAhga7tV941nAmu7lctlqK0ddgB7Jl3R+ykysJU8SADM7EjgKeA+d/8XM7u13eIaoAFoTB53HG8LrO1WoRDR0LCzqP3oSj5f03PRABL6forIwa+7z72Sn9oysz8BlgPXuPuSZHiNmc1MHp8FrABWArPMLGtm44Csu28pQa2IiJRRGkckC4BRwA1mtu9ayeXAXWZWDawHnnD3gpmtAFYRB9q8pHY+8PCB1qawPyIi0o1MFEU9V/UjLS2FqBSntiZf9WiJOurb6hbOpb6+qdJtiEjK8vmaOmBKZ8t0Q6KIiARRkIiISBAFiYiIBFGQiIhIEAWJiIgEUZCIiEgQBYmIiARRkIiISBAFiYiIBFGQiIhIEAWJiIgEUZCIiEgQBYmIiARRkIiISBAFiYiIBFGQiIhIEAWJiIgEUZCIiEiQNH6zHQAzmwp8191nmtkxwFIgAtYB89y9zcxuBGYDrcAV7r66FLVp7ZOIiLxfKkckZnY1sBgYkgwtAq5391OBDDDHzE4EZgBTgfOAe0tRm8b+iIhI19I6ItkIfA74fvJ8MvBc8ngZcAbgwHJ3j4DNZlZlZvkS1D7VXWO5XIba2mEl2EXZR+/nwaONiMGDUjvR0KfsaWklS6bSbQwIqfzFufuTZjah3VAmCQGAJmAkMALY2q5m33hobbcKhYiGhp2926EO8vmaoPX7m9D3U0onn69h8lWPVrqNg0LdwrnU1zdVuo1+o7vPvXJdbG9/3aIGaAAak8cdx0NrRUSkjMoVJGvMbGby+CxgBbASmGVmWTMbB2TdfUsJakVEpIzKdTJ1PvCwmVUD64En3L1gZiuAVcSBNq8UtWXaH0lErXt0qi9R2Lubd7e3VLoNkbLLRFHUc1U/0tJSiEpxjUTnoWN1C+ey+eZJlW7joDDum2srfk5ef5t/pGskpZXP19QBUzpbphsSRUQkiIJERESCKEhERCSIgkRERIIoSEREJIiCREREgihIREQkiIJERESCKEhERCSIgkRERIIoSEREJIiCREREgihIREQkiIJERESCKEhERCSIgkRERIIoSEREJEi5fmo3NWaWBe4Djgf2AF929w2V7UpEZODoD0ck5wJD3P0TwLXA7ZVtR0RkYOkPQTINeBrA3V+ki98UFhGRdGSiKKp0D0HMbDHwpLsvS55vBo5y99YuVqkHNpWrPxGRfmI8kO9sQZ+/RgI0AjXtnme7CRHo4o0QEZED0x9Oba0EzgYws5OAtZVtR0RkYOkPRyRPAaeb2QtABrigwv2IiAwoff4aiYiIVFZ/OLUlIiIVpCAREZEgChIREQnSHy62Sxn0NBWNmV0EXAK0Av/g7j+qSKMyYJnZVOC77j6zw/hngG8S/20ucfeHK9Bev6YjEinWuXQxFY2ZHQZ8HTgFmAX8o5kNrkSTMjCZ2dXAYmBIh/FBwB3AGcAM4GIz+5Pyd9i/KUikWN1NRfNxYKW773H37cAG4CPlb1EGsI3A5zoZPxbY4O7b3H0v8DwwvaydDQAKEinWCGB7u+cFM6vqYlkTMLJcjYm4+5NASyeL9LdZBgoSKVZ3U9F0XFYDNJSpL5Hu6G+zDHSxXYq1EvgM8O+dTEWzGrjFzIYAg4lPJ6wrf4si77Me+FMzOxTYQXxa67bKttT/KEikWO+bisbMvkF8/vmHZnYXsIL4KPfv3H13BXuVAc7M/go4xN0fSv5OnyH+21zi7r+tbHf9j6ZIERGRILpGIiIiQRQkIiISREEiIiJBFCQiIhJEQSIiIkEUJCIHyMxeNLMJvVznTDO7OKWWiu1hppk9XskepH/RfSQiZeTuT1e6B5FSU5DIgGJmXwT+zN2vTe7EfwO4FTgfaANedvevm9mRwEPAUGAXcLG7v2VmtwBnAm8BY3p4rdeJb9L8MPAu8AXgL4E/Ax4A/jXZztHAanf/SjfbehV4jngyzAiYA5wAXOru5yU1v3f3w8xsKfG8U+OJZxp4nHhWgnHJehDf7f0MMBq4390fMbNJwF3EN5xuBS5MXuO7wF7gIXf/fnf7LAOTTm2JwAXAZckU+euTyShvA+5KftviNuA7ZjaFeIqNjwFzee8cTp0ZBvzA3acRB9YlHZZ/CPgS8ezJZyfT8XdlBPCv7j4D+C1wVg+v/Wt3P4N4ipCJ7n428CRxoAAMSh6fClxjZnngYWBess8/Aa5Oaoe4+6kKEemKjkhkIMsk/14A/K2ZTQRWJeOTgAVmdk3yvIX4g//n7t4GNJrZ2k622V6Lu/8sefwC8Yf/qnbLN7h7E4CZ/Y4Ov6XRiTXJv291UZtp9/h/k38biEMMYFu79V5MplXfd+Q0gXiOtPvMDOKg+WVS6z30JQOcjkhkoNkNjE0en5j8exHxKaIZxKdyTib+8L0m+b/zS4D/AF4HPm5mWTMbDvyfHl5rkJkdnzw+BXitw/Lezk/UsX7/vpjZeODQXmz7BDOrSvbjWOLf83BgbrLPVwP7fuWyrZd9ygCjIxIZaJ4GvmJmzwN1xNOMrwVWmFkT8Wmjl4C/Be5PrqMMBS5391fMbBnwMvA28IciXu8aMxsHbAauJ75OUio/BxrM7CXiU1i/6sW6u4FlQC3w9+7+rpl9BXg0ObUXEZ92O7yE/Uo/pUkbRVJiZr8mvrCvmZClX9MRiUgAM/s48be+Ovq3Um7L3e/v7fZEykVHJCIiEkQX20VEJIiCREREgihIREQkiIJERESCKEhERCTI/wflxfQ4gSrg7wAAAABJRU5ErkJggg==\n"
     },
     "metadata": {
      "needs_background": "light"
     },
     "output_type": "display_data"
    },
    {
     "data": {
      "text/plain": "<Figure size 432x288 with 1 Axes>",
      "image/png": "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\n"
     },
     "metadata": {
      "needs_background": "light"
     },
     "output_type": "display_data"
    }
   ],
   "source": [
    "# Wo traten die meisten Transaktionen mit Betrug auf?\n",
    "import matplotlib.pyplot as plt\n",
    "import seaborn as sns\n",
    "\n",
    "# Source: https://www.kaggle.com/code/gerardocappa/card-fraud-detection-with-randomforest [7]\n",
    "for col in ['repeat_retailer','used_chip','used_pin_number','online_order']:\n",
    "    sns.countplot(data=dataset, x=col, hue='fraud')\n",
    "    plt.show()\n",
    "\n",
    "# In den folgenden Plots können wir sehen, dass Transaktionen, welche mit PIN getätigt wurden,\n",
    "# meistens keine betrügerischen Transaktionen sind.\n",
    "# Außerdem findet ein großer Teil der betrügerischen Transaktionen online statt."
   ],
   "metadata": {
    "collapsed": false,
    "pycharm": {
     "name": "#%%\n"
    }
   }
  },
  {
   "cell_type": "code",
   "execution_count": 46,
   "outputs": [],
   "source": [
    "from sklearn.preprocessing import MinMaxScaler\n",
    "from sklearn.model_selection import train_test_split\n",
    "\n",
    "# Datenset kopieren\n",
    "orig_dataset = dataset.copy()\n",
    "features_names = dataset.columns.tolist()\n",
    "# Fraud von der Featurelist entfernen\n",
    "features_names.remove('fraud')\n",
    "\n",
    "# Features normalisieren\n",
    "minmax_scaler = MinMaxScaler()\n",
    "orig_dataset[features_names] = minmax_scaler.fit_transform(dataset[features_names])\n",
    "\n",
    "# Fraud-Column aus dem Datenset entfernen, und als testdaten speichern\n",
    "y_sc = orig_dataset.pop('fraud')\n",
    "# Split Dataset 80-20. train_test_split wie in den Praktika verwendet.\n",
    "X_train, X_test, y_train, y_test = train_test_split(orig_dataset,y_sc, test_size=0.2)"
   ],
   "metadata": {
    "collapsed": false,
    "pycharm": {
     "name": "#%%\n"
    }
   }
  },
  {
   "cell_type": "code",
   "execution_count": null,
   "outputs": [],
   "source": [
    "from sklearn.tree import DecisionTreeClassifier\n",
    "from sklearn.ensemble import AdaBoostClassifier\n",
    "# AdaBoost Kaskade mit 100 DecisionTrees instanziieren\n",
    "ada = AdaBoostClassifier(DecisionTreeClassifier(max_depth=1),n_estimators=100, algorithm='SAMME.R',learning_rate=0.5)\n",
    "\n",
    "# Train model\n",
    "%timeit ada.fit(X_train, y_train)"
   ],
   "metadata": {
    "collapsed": false,
    "pycharm": {
     "name": "#%%\n",
     "is_executing": true
    }
   }
  },
  {
   "cell_type": "code",
   "execution_count": null,
   "outputs": [],
   "source": [
    "# Genauigkeit messen\n",
    "ada.score(X_test, y_test)"
   ],
   "metadata": {
    "collapsed": false,
    "pycharm": {
     "name": "#%%\n",
     "is_executing": true
    }
   }
  },
  {
   "cell_type": "markdown",
   "source": [
    "Wie man hier schön erkennen kann, ist unser Model sehr akkurat und wurde auf schwacher Hardware trainiert (Laptop von 2020 mit i7-8550U). Das ganze hat nur wenige Minuten gedauert.\n",
    "Das Anwenden des Models liegt im Millisekundenbereich. Es bietet sich daher vor allem für schwächere Hardware an, oder wo ein komplexeres Model einfach Overkill wäre."
   ],
   "metadata": {
    "collapsed": false,
    "pycharm": {
     "name": "#%% md\n"
    }
   }
  },
  {
   "cell_type": "markdown",
   "source": [
    "# Hinweise zur Praxis\n",
    "\n",
    "- Die Lernrate von ``1`` ist laut Peter Prettenhofer und Noel Dawe [4] nicht unbedingt für SAMME und SAMME.R beidermaßen optimal. Am Besten spielt man mit dem Hyperparameter ein wenig herum, bis man seinem gewünschtem Ergebnis nahe kommt.\n",
    "- Wenn das Model zu Overfitting neigt, kann es helfen die Anzahl der Lerner ``n_estimators`` zu verringern."
   ],
   "metadata": {
    "collapsed": false,
    "pycharm": {
     "name": "#%% md\n"
    }
   }
  },
  {
   "cell_type": "markdown",
   "source": [
    "# Literaturverzeichnis\n",
    "[1] sklearn.ensemble.AdaBoostClassifier. (n.d.). Scikit-Learn. Retrieved June 3, 2022, from [https://scikit-learn.org/stable/modules/generated/sklearn.ensemble.AdaBoostClassifier.html#sklearn.ensemble.AdaBoostClassifier](https://scikit-learn.org/stable/modules/generated/sklearn.ensemble.AdaBoostClassifier.html#sklearn.ensemble.AdaBoostClassifier)\n",
    "[2] Géron, A. (2020). Praxiseinstieg Machine Learning mit Scikit-Learn, Keras und TensorFlow: Konzepte, Tools und Techniken für intelligente Systeme (Aktuell zu TensorFlow 2) [E-book]. Dpunkt.Verlag GmbH.\n",
    "[3] J. Zhu, H. Zou, S. Rosset, T. Hastie. “Multi-class AdaBoost”, 2009.\n",
    "[4] Dawe, N., & Prettenhofer, P. (n.d.). Discrete versus Real AdaBoost. Scikit-Learn. Retrieved June 3, 2022, from [https://scikit-learn.org/stable/auto_examples/ensemble/plot_adaboost_hastie_10_2.html#preparing-the-data-and-baseline-models](https://scikit-learn.org/stable/auto_examples/ensemble/plot_adaboost_hastie_10_2.html#preparing-the-data-and-baseline-models)\n",
    "[5] Viola, P., & Jones, M. (2001). Rapid Object Detection using a Boosted Cascade of Simple Features. University of Texas. Retrieved June 14, 2022, from [https://www.cs.utexas.edu/~grauman/courses/spring2007/395T/papers/viola_cvpr2001.pdf](https://www.cs.utexas.edu/~grauman/courses/spring2007/395T/papers/viola_cvpr2001.pdf)\n",
    "[6] Narayanan, D. (2022, May 7). Credit Card Fraud. Kaggle. Retrieved June 17, 2022, from [https://www.kaggle.com/datasets/dhanushnarayananr/credit-card-fraud](https://www.kaggle.com/datasets/dhanushnarayananr/credit-card-fraud)\n",
    "[7] Cappa, G. (2022, June 12). Card Fraud Detection with RandomForest. Kaggle. https://www.kaggle.com/code/gerardocappa/card-fraud-detection-with-randomforest"
   ],
   "metadata": {
    "collapsed": false,
    "pycharm": {
     "name": "#%% md\n"
    }
   }
  }
 ],
 "metadata": {
  "kernelspec": {
   "display_name": "Python 3",
   "language": "python",
   "name": "python3"
  },
  "language_info": {
   "codemirror_mode": {
    "name": "ipython",
    "version": 2
   },
   "file_extension": ".py",
   "mimetype": "text/x-python",
   "name": "python",
   "nbconvert_exporter": "python",
   "pygments_lexer": "ipython2",
   "version": "2.7.6"
  }
 },
 "nbformat": 4,
 "nbformat_minor": 0
}
